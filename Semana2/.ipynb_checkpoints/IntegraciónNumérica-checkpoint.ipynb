{
  "nbformat": 4,
  "nbformat_minor": 0,
  "metadata": {
    "colab": {
      "provenance": []
    },
    "kernelspec": {
      "name": "python3",
      "display_name": "Python 3"
    },
    "language_info": {
      "name": "python"
    }
  },
  "cells": [
    {
      "cell_type": "markdown",
      "source": [
        "INTEGRACIÓN NUMÉRICA"
      ],
      "metadata": {
        "id": "yUSe-IEFpZwp"
      }
    },
    {
      "cell_type": "code",
      "execution_count": 1,
      "metadata": {
        "id": "lQpqA4JRniy5"
      },
      "outputs": [],
      "source": [
        "#Este ejercicio preparatorio busca que usted implemente correctamente tres métodos de integración numérica. Pruebe distintos valores de h. Si termina el ejercicio antes de que acabe la clase, repita el proceso para el método de Monte Carlo y el método del valor medio.\n",
        "\n",
        "import numpy as np\n",
        "import matplotlib.pylab as plt\n",
        "\n",
        "# Función a integrar\n",
        "def funcion(x1):\n",
        "    \treturn np.cos(x1)\n"
      ]
    },
    {
      "cell_type": "code",
      "source": [
        "#El intervalo de integración es de 0 a 3pi/2.\n",
        "#Divida el intervalo de integración en M secciones para calcular sus integrales.\n",
        "#pruebe distintos valores de M\n",
        "\n",
        "# paso 1: use linespace (ver documentación: https://numpy.org/doc/stable/reference/generated/numpy.linspace.html)\n",
        "# para hacer el arreglo de su intervalo en x\n",
        "M=9999\n",
        "a=0\n",
        "b=3*np.pi/2\n",
        "\n",
        "#paso 2: genere el arreglo de valores de su función fx:\n",
        "x = np.linspace(a,b,M)\n",
        "fx = funcion(x)\n",
        "\n",
        "integral = -1"
      ],
      "metadata": {
        "id": "aSfvBxOQpoFs"
      },
      "execution_count": 2,
      "outputs": []
    },
    {
      "cell_type": "code",
      "source": [
        "#1) grafique su función para verificar que hizo bien los pasos anteriores\n",
        "\n",
        "\n",
        "import matplotlib.pyplot as plt\n",
        "\n",
        "plt.plot(x,fx)\n",
        "plt.axhline(y=0, xmin=0, xmax=1, color = 'k')\n",
        "plt.grid()\n",
        "plt.show()"
      ],
      "metadata": {
        "id": "fIBHvm7guBgT",
        "colab": {
          "base_uri": "https://localhost:8080/",
          "height": 430
        },
        "outputId": "2db7910f-3033-40ed-b021-f129a4e6bf89"
      },
      "execution_count": 3,
      "outputs": [
        {
          "output_type": "display_data",
          "data": {
            "text/plain": [
              "<Figure size 640x480 with 1 Axes>"
            ],
            "image/png": "[encoded data removed]"
          },
          "metadata": {}
        }
      ]
    },
    {
      "cell_type": "code",
      "source": [
        "# 2a). Usando el método de suma de rectángulos, calcule la integral de la función.\n",
        "#Compare su valor obtenido numéricamente con el valor analitico e imprima ambos valores.\n",
        "\n",
        "def integral_rect(f,a,b,M):\n",
        "  h = (b-a)/(M-1)\n",
        "  return np.sum(fx[1:]*h)\n",
        "\n",
        "resultado_rect = integral_rect(fx,a,b,M)\n",
        "error_rect = np.abs(integral-resultado_rect)\n",
        "\n",
        "print(\"Rectángulos: \", resultado_rect)\n",
        "print(\"Analítico: \", integral)\n",
        "print(\"Error: \", error_rect)"
      ],
      "metadata": {
        "id": "ad7jU8CUpulg",
        "colab": {
          "base_uri": "https://localhost:8080/"
        },
        "outputId": "a460e7ff-0d78-425a-b484-ca2f1fc88187"
      },
      "execution_count": 4,
      "outputs": [
        {
          "output_type": "stream",
          "name": "stdout",
          "text": [
            "Rectángulos:  -1.000235648069423\n",
            "Analítico:  -1\n",
            "Error:  0.0002356480694230001\n"
          ]
        }
      ]
    },
    {
      "cell_type": "code",
      "source": [
        "# 2b). Usando el método de trapezoide, calcule la integral de la función.\n",
        "#Compare su valor obtenido numéricamente con el valor analitico e imprima ambos valores.\n",
        "\n",
        "def integral_trap(f,a,b,M):\n",
        "  h = (b-a)/(M-1)\n",
        "  w = np.full(M,h)\n",
        "  w[0] = w[-1] = h/2\n",
        "  return np.sum([f*w])\n",
        "\n",
        "resultado_trap = integral_trap(fx,a,b,M)\n",
        "error_trap = np.abs(integral-resultado_trap)\n",
        "\n",
        "print(\"Trapezoides: \", resultado_trap)\n",
        "print(\"Analítico: \", integral)\n",
        "print(\"Error\", error_trap)"
      ],
      "metadata": {
        "id": "CHZUcV-Fpwdq",
        "colab": {
          "base_uri": "https://localhost:8080/"
        },
        "outputId": "75b58e9b-e3a4-4f27-e480-5184e1de5b39"
      },
      "execution_count": 6,
      "outputs": [
        {
          "output_type": "stream",
          "name": "stdout",
          "text": [
            "Simpson:  -1.0000000000000004\n",
            "Analítico:  -1\n",
            "Error:  4.440892098500626e-16\n"
          ]
        }
      ]
    },
    {
      "cell_type": "code",
      "source": [
        "# 2c). Usando el método de Simpson, calcule la integral de la función.\n",
        "#Compare su valor obtenido numéricamente con el valor analitico e imprima ambos valores.\n",
        "\n",
        "M = 9999\n",
        "def integral_simpson(f,a,b,M):\n",
        "  assert M%2!=0\n",
        "  h = (b-a)/(M-1)\n",
        "  w1 = np.full(M,h/3)\n",
        "  L = [1] + [4,2]*((M-2)//2) + [4,1]\n",
        "  w2 = np.array(L)\n",
        "  w = w1*w2\n",
        "  return np.sum(f*w)\n",
        "\n",
        "resultado_simpson = integral_simpson(fx,a,b,M)\n",
        "error_simpson = np.abs(integral - resultado_simpson)\n",
        "\n",
        "print(\"Simpson: \",resultado_simpson)\n",
        "print(\"Analítico: \", integral)\n",
        "print(\"Error: \", error_simpson)"
      ],
      "metadata": {
        "id": "lmm6oEfop8_w",
        "colab": {
          "base_uri": "https://localhost:8080/"
        },
        "outputId": "a0743d52-a03b-407f-f2ee-6fbd300228f0"
      },
      "execution_count": 7,
      "outputs": [
        {
          "output_type": "stream",
          "name": "stdout",
          "text": [
            "Simpson:  -1.0000000000000004\n",
            "Analítico:  -1\n",
            "Error:  4.440892098500626e-16\n"
          ]
        }
      ]
    },
    {
      "cell_type": "code",
      "source": [
        "# 3)BONO: Implemente los métodos de Monte Carlo y de valor medio para calcular la integral"
      ],
      "metadata": {
        "id": "hOu_n3q0plUn"
      },
      "execution_count": 8,
      "outputs": []
    },
    {
      "cell_type": "code",
      "source": [
        "# Montecarlo\n",
        "\n",
        "results_MC = []\n",
        "pi = np.pi\n",
        "\n",
        "reps = 100\n",
        "n = 100000\n",
        "\n",
        "for i in range(reps):\n",
        "  rands_x = np.random.random(n)*2*pi\n",
        "  rands_y = np.random.random(n)*2-1\n",
        "  fx_mc = funcion(rands_x)\n",
        "\n",
        "  A_box = 4*pi\n",
        "\n",
        "  N_in = np.sum(((rands_x > 0)*(rands_x < pi/2))*((rands_y > 0)*(rands_y < fx_mc)))\n",
        "  N_in_ = np.sum(((rands_x > pi/2)*(rands_x < 3*pi/2))*((rands_y > fx_mc)*(rands_y < 0)))\n",
        "\n",
        "  resultado_MC = ((N_in-N_in_)/n)*A_box\n",
        "  results_MC.append(resultado_MC)\n",
        "\n",
        "resultado_MC = sum(results_MC)/reps\n",
        "error_MC = np.abs(integral - resultado_MC)\n",
        "\n",
        "print(f\"Iteraciones = {reps}\")\n",
        "print(f\"n = {n}\")\n",
        "print(\"Montecarlo:\", resultado_MC)\n",
        "print(\"Analítico: \", integral)\n",
        "print(\"Error: \", error_MC)"
      ],
      "metadata": {
        "colab": {
          "base_uri": "https://localhost:8080/"
        },
        "id": "HMM3V6ktnDxV",
        "outputId": "20a2e233-1da1-4a28-bfff-e0bbeb3d036c"
      },
      "execution_count": 9,
      "outputs": [
        {
          "output_type": "stream",
          "name": "stdout",
          "text": [
            "Iteraciones = 100\n",
            "n = 100000\n",
            "Montecarlo: -0.999570587689156\n",
            "Analítico:  -1\n",
            "Error:  0.0004294123108440351\n"
          ]
        }
      ]
    },
    {
      "cell_type": "code",
      "source": [
        "# Valor medio\n",
        "\n",
        "reps = 100\n",
        "n = 100000\n",
        "\n",
        "results_MV = []\n",
        "\n",
        "for i in range(reps):\n",
        "  x = np.random.random(n)*b\n",
        "  y = funcion(x)\n",
        "\n",
        "  f_med = np.sum(y)/n\n",
        "\n",
        "  resultado_MV = f_med*(b-a)\n",
        "  results_MV.append(resultado_MV)\n",
        "\n",
        "resultado_MV = sum(results_MV)/reps\n",
        "error_MV = np.abs(integral - resultado_MV)\n",
        "\n",
        "print(f\"Iteraciones = {reps}\")\n",
        "print(f\"n = {n}\")\n",
        "print(\"Valor medio:\", resultado_MV)\n",
        "print(\"Analítico: \", integral)\n",
        "print(\"Error: \", error_MV)"
      ],
      "metadata": {
        "colab": {
          "base_uri": "https://localhost:8080/"
        },
        "id": "6_ay1yFkpw-M",
        "outputId": "75eb76bd-fefb-4d17-9399-952f65991fb5"
      },
      "execution_count": 10,
      "outputs": [
        {
          "output_type": "stream",
          "name": "stdout",
          "text": [
            "Iteraciones = 100\n",
            "n = 100000\n",
            "Valor medio: -0.9987440039663944\n",
            "Analítico:  -1\n",
            "Error:  0.0012559960336055997\n"
          ]
        }
      ]
    },
    {
      "cell_type": "code",
      "source": [
        "# 4)BONO: Repita el ejercicio anterior usando algunos de los métodos de las librerías de scipy\n",
        "# https://docs.scipy.org/doc/scipy/tutorial/integrate.html\n",
        "\n",
        "import scipy as sp\n"
      ],
      "metadata": {
        "id": "7zXvkKvgqAts"
      },
      "execution_count": 11,
      "outputs": []
    },
    {
      "cell_type": "code",
      "source": [
        "quad, error_quad = sp.integrate.quad(funcion, a, b)\n",
        "print(\"Scipy quad:\", quad)\n",
        "print(\"Error:\", error_quad)\n",
        "print()\n",
        "\n",
        "x = np.linspace(a,b,M)\n",
        "fx = funcion(x)\n",
        "\n",
        "sp_trap = sp.integrate.trapezoid(fx,x)\n",
        "print(\"Scipy trap:\", sp_trap)\n",
        "print(\"Error:\", np.abs(-1-sp_trap))\n",
        "print()\n",
        "\n",
        "sp_simpson = sp.integrate.simpson(fx,x)\n",
        "print(\"Scipy simpson:\", sp_simpson)\n",
        "print(\"Error:\", np.abs(-1-sp_simpson))\n",
        "print()"
      ],
      "metadata": {
        "colab": {
          "base_uri": "https://localhost:8080/"
        },
        "id": "VC80mWKbqBJI",
        "outputId": "cf81107d-e9b2-44aa-8740-83c00d2f1298"
      },
      "execution_count": 12,
      "outputs": [
        {
          "output_type": "stream",
          "name": "stdout",
          "text": [
            "Scipy quad: -1.0000000000000002\n",
            "Error: 3.334366076909448e-14\n",
            "\n",
            "Scipy trap: -0.999999981487087\n",
            "Error: 1.8512912980384044e-08\n",
            "\n",
            "Scipy simpson: -1.0\n",
            "Error: 0.0\n",
            "\n"
          ]
        }
      ]
    }
  ]
}