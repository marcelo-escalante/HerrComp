{
  "nbformat": 4,
  "nbformat_minor": 0,
  "metadata": {
    "colab": {
      "provenance": []
    },
    "kernelspec": {
      "name": "python3",
      "display_name": "Python 3"
    },
    "language_info": {
      "name": "python"
    }
  },
  "cells": [
    {
      "cell_type": "code",
      "execution_count": 1,
      "metadata": {
        "id": "2C4-NCAJ_tsO"
      },
      "outputs": [],
      "source": [
        "import numpy as np\n",
        "np.random.seed(0)\n",
        "N=6\n",
        "Arreglo=(np.random.random((N,N))*10.0)-5.0\n",
        "B=(np.random.random((N,1))*10.0)-5.0"
      ]
    },
    {
      "cell_type": "code",
      "source": [
        "# Gauss Jordan\n",
        "Ab = np.concatenate((Arreglo,B),axis=1)\n",
        "for i in range(N):\n",
        "  Ab[i] = Ab[i]/Ab[i,i]\n",
        "  for j in range(i+1,N):\n",
        "    Ab[j] = Ab[j] - Ab[i]*Ab[j,i]\n",
        "  for k in range(i-1,-1,-1):\n",
        "    Ab[k] = Ab[k] - Ab[i]*Ab[k,i]\n",
        "\n",
        "xgj = Ab[:,-1]"
      ],
      "metadata": {
        "id": "8KUwWfs-_x_7"
      },
      "execution_count": 2,
      "outputs": []
    },
    {
      "cell_type": "code",
      "source": [
        "xgj = xgj.reshape(N,1)\n",
        "print(xgj)"
      ],
      "metadata": {
        "colab": {
          "base_uri": "https://localhost:8080/"
        },
        "id": "LZDACkEPAiID",
        "outputId": "9b579bf1-2cf6-4c43-e804-d5c514635085"
      },
      "execution_count": 3,
      "outputs": [
        {
          "output_type": "stream",
          "name": "stdout",
          "text": [
            "[[ 0.50049575]\n",
            " [ 0.47054846]\n",
            " [-0.29190397]\n",
            " [-0.22240309]\n",
            " [ 0.22167228]\n",
            " [ 0.29686295]]\n"
          ]
        }
      ]
    },
    {
      "cell_type": "code",
      "source": [
        "# Gauss\n",
        "Ab = np.concatenate((Arreglo,B),axis=1)\n",
        "for i in range(N):\n",
        "  Ab[i] = Ab[i]/Ab[i,i]\n",
        "  for j in range(i+1,N):\n",
        "    Ab[j] = Ab[j] - Ab[i]*Ab[j,i]\n",
        "\n",
        "A = Ab[:,:-1]\n",
        "b = Ab[:,-1]\n",
        "\n",
        "xg = np.zeros(N)\n",
        "for i in range(N-1,-1,-1):\n",
        "  xi = b[i] - np.dot(A[i], xg)\n",
        "  xg[i] = xi"
      ],
      "metadata": {
        "id": "_XBq3erwEAcK"
      },
      "execution_count": 4,
      "outputs": []
    },
    {
      "cell_type": "code",
      "source": [
        "xg = xg.reshape(N,1)\n",
        "print(xg)"
      ],
      "metadata": {
        "colab": {
          "base_uri": "https://localhost:8080/"
        },
        "id": "jylkVw8TGHRq",
        "outputId": "eddfcd28-9019-4c8a-947b-9d7d6ee9c92d"
      },
      "execution_count": 5,
      "outputs": [
        {
          "output_type": "stream",
          "name": "stdout",
          "text": [
            "[[ 0.50049575]\n",
            " [ 0.47054846]\n",
            " [-0.29190397]\n",
            " [-0.22240309]\n",
            " [ 0.22167228]\n",
            " [ 0.29686295]]\n"
          ]
        }
      ]
    },
    {
      "cell_type": "code",
      "source": [
        "# Numpy\n",
        "xnumpy = np.linalg.solve(Arreglo,B)\n",
        "print(xnumpy)"
      ],
      "metadata": {
        "colab": {
          "base_uri": "https://localhost:8080/"
        },
        "id": "9oa_mLjFCoyF",
        "outputId": "998a9a2b-b1ef-4b24-8525-22c98cf7e483"
      },
      "execution_count": 6,
      "outputs": [
        {
          "output_type": "stream",
          "name": "stdout",
          "text": [
            "[[ 0.50049575]\n",
            " [ 0.47054846]\n",
            " [-0.29190397]\n",
            " [-0.22240309]\n",
            " [ 0.22167228]\n",
            " [ 0.29686295]]\n"
          ]
        }
      ]
    },
    {
      "cell_type": "code",
      "source": [
        "print(f\"Error Gauss Jordan - Numpy: {np.max(np.abs(xgj-xnumpy))}\")\n",
        "print(f\"Error Gauss - Numpy       : {np.max(np.abs(xg-xnumpy))}\")\n"
      ],
      "metadata": {
        "colab": {
          "base_uri": "https://localhost:8080/"
        },
        "id": "Yq83VoB6DROW",
        "outputId": "813f9ff7-1de0-4eea-f95a-2d1679cc8d6b"
      },
      "execution_count": 7,
      "outputs": [
        {
          "output_type": "stream",
          "name": "stdout",
          "text": [
            "Error Gauss Jordan - Numpy: 1.1657341758564144e-15\n",
            "Error Gauss - Numpy       : 1.1657341758564144e-15\n"
          ]
        }
      ]
    }
  ]
}