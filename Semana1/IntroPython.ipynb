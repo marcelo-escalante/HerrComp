{
 "cells": [
  {
   "cell_type": "markdown",
   "metadata": {
    "id": "GzYes-TBF1c6"
   },
   "source": [
    "PYTHON: INTRODUCCION (O REPASO)"
   ]
  },
  {
   "cell_type": "markdown",
   "metadata": {
    "id": "hMcirD3jFWtm"
   },
   "source": [
    "Tutoriales Python:\n",
    "\n",
    "learnpython.org\n",
    "\n",
    "https://www.geeksforgeeks.org/python-programming-language/?ref=lbp\n",
    "\n",
    "https://argentinaenpython.com/quiero-aprender-python/TutorialPython3.pdf\n",
    "\n",
    "https://www.youtube.com/playlist?list=PLU8oAlHdN5BlvPxziopYZRd55pdqFwkeS\n",
    "\n",
    "https://www.freecodecamp.org/learn/scientific-computing-with-python/#python-for-everybody\n",
    "\n"
   ]
  },
  {
   "cell_type": "markdown",
   "metadata": {
    "id": "N914VLVOFx5D"
   },
   "source": [
    "IMPRIMIR EN LA TERMINAL:"
   ]
  },
  {
   "cell_type": "code",
   "execution_count": 1,
   "metadata": {
    "colab": {
     "base_uri": "https://localhost:8080/"
    },
    "id": "CQr7a6LzGsO3",
    "outputId": "59b59cf6-ec11-4de5-9008-3e563b9e586d"
   },
   "outputs": [
    {
     "name": "stdout",
     "output_type": "stream",
     "text": [
      "hola mundo\n"
     ]
    }
   ],
   "source": [
    "#primer codigo: \"hola mundo\"\n",
    "print(\"hola mundo\")"
   ]
  },
  {
   "cell_type": "markdown",
   "metadata": {
    "id": "jSgIcHQZGxtd"
   },
   "source": [
    "TIPOS DE VARIABLES:"
   ]
  },
  {
   "cell_type": "code",
   "execution_count": 2,
   "metadata": {
    "colab": {
     "base_uri": "https://localhost:8080/"
    },
    "id": "CxVuKuoPGuba",
    "outputId": "0af04f07-5cc9-45d8-e7ae-682ad8e45a2a"
   },
   "outputs": [
    {
     "name": "stdout",
     "output_type": "stream",
     "text": [
      "variable:  3\n",
      "tipo de variable:  <class 'int'>\n",
      "\n",
      "variable:  4.0\n",
      "tipo de variable:  <class 'float'>\n",
      "\n",
      "variable:  True\n",
      "tipo de variable:  <class 'bool'>\n",
      "\n",
      "variable:  hola\n",
      "tipo de variable:  <class 'str'>\n",
      "\n",
      "variable:  hola2\n",
      "tipo de variable:  <class 'str'>\n",
      "\n"
     ]
    }
   ],
   "source": [
    "#enteras\n",
    "mi_ent=3\n",
    "\n",
    "#flotates\n",
    "mi_float=4.0\n",
    "\n",
    "#boleanas\n",
    "mi_bol=True\n",
    "\n",
    "#caracteres\n",
    "mi_car = \"hola\"\n",
    "mi_car2='hola2'\n",
    "\n",
    "print(\"variable: \", mi_ent)\n",
    "print(\"tipo de variable: \", type(mi_ent))\n",
    " #mini ejercicio: impriman las otras variables y su tipo\n",
    "\n",
    "print()\n",
    "\n",
    "print(\"variable: \", mi_float)\n",
    "print(\"tipo de variable: \", type(mi_float))\n",
    "print()\n",
    "\n",
    "print(\"variable: \", mi_bol)\n",
    "print(\"tipo de variable: \", type(mi_bol))\n",
    "print()\n",
    "\n",
    "print(\"variable: \", mi_car)\n",
    "print(\"tipo de variable: \", type(mi_car))\n",
    "print()\n",
    "\n",
    "print(\"variable: \", mi_car2)\n",
    "print(\"tipo de variable: \", type(mi_car2))\n",
    "print()"
   ]
  },
  {
   "cell_type": "markdown",
   "metadata": {
    "id": "I5pvAC9aHaZS"
   },
   "source": [
    "OPERACIONES MATEMÁTICAS BÁSICAS"
   ]
  },
  {
   "cell_type": "code",
   "execution_count": 3,
   "metadata": {
    "colab": {
     "base_uri": "https://localhost:8080/",
     "height": 256
    },
    "id": "Xh-gb4u6G8de",
    "outputId": "9f9e24fb-d11b-44c0-88ec-b9876c4fae15"
   },
   "outputs": [
    {
     "ename": "TypeError",
     "evalue": "unsupported operand type(s) for +: 'int' and 'str'",
     "output_type": "error",
     "traceback": [
      "\u001b[0;31m---------------------------------------------------------------------------\u001b[0m",
      "\u001b[0;31mTypeError\u001b[0m                                 Traceback (most recent call last)",
      "\u001b[0;32m<ipython-input-3-7cb4229d57a2>\u001b[0m in \u001b[0;36m<cell line: 13>\u001b[0;34m()\u001b[0m\n\u001b[1;32m     11\u001b[0m \u001b[0;34m\u001b[0m\u001b[0m\n\u001b[1;32m     12\u001b[0m \u001b[0;31m#mini ejercicio: descomenten lo anterior y entiendan cuál es el error\u001b[0m\u001b[0;34m\u001b[0m\u001b[0;34m\u001b[0m\u001b[0m\n\u001b[0;32m---> 13\u001b[0;31m \u001b[0msuma_que_no_funciona\u001b[0m \u001b[0;34m=\u001b[0m \u001b[0mmi_ent\u001b[0m \u001b[0;34m+\u001b[0m \u001b[0mmi_car\u001b[0m\u001b[0;34m\u001b[0m\u001b[0;34m\u001b[0m\u001b[0m\n\u001b[0m\u001b[1;32m     14\u001b[0m \u001b[0mprint\u001b[0m\u001b[0;34m(\u001b[0m\u001b[0msuma_que_no_funciona\u001b[0m\u001b[0;34m)\u001b[0m\u001b[0;34m\u001b[0m\u001b[0;34m\u001b[0m\u001b[0m\n\u001b[1;32m     15\u001b[0m \u001b[0;34m\u001b[0m\u001b[0m\n",
      "\u001b[0;31mTypeError\u001b[0m: unsupported operand type(s) for +: 'int' and 'str'"
     ]
    }
   ],
   "source": [
    "#operaciones basicas entre variables\n",
    "suma = mi_ent + mi_float\n",
    "#print(suma)\n",
    "\n",
    "suma2= mi_car + \" \" + mi_car2\n",
    "#print(suma2)\n",
    "\n",
    "#\tNO FUNCIONA\n",
    "#suma_que_no_funciona = mi_ent + mi_car\n",
    "#print(suma_que_no_funciona)\n",
    "\n",
    "#mini ejercicio: descomenten lo anterior y entiendan cuál es el error\n",
    "suma_que_no_funciona = mi_ent + mi_car #error\n",
    "print(suma_que_no_funciona)\n",
    "\n",
    "#No se acepta sumar variables tipo \"int\" (entero) con \"str\" (cadena dee caractéres)"
   ]
  },
  {
   "cell_type": "markdown",
   "metadata": {
    "id": "K9bsQcGpIPKr"
   },
   "source": [
    "LISTAS y APPEND"
   ]
  },
  {
   "cell_type": "code",
   "execution_count": 4,
   "metadata": {
    "colab": {
     "base_uri": "https://localhost:8080/",
     "height": 385
    },
    "id": "jAyQouiBHjdU",
    "outputId": "96cb0e4d-de7a-47f9-9557-d3e0e0abedf1"
   },
   "outputs": [
    {
     "name": "stdout",
     "output_type": "stream",
     "text": [
      "mi lista:  [27.0, 12, 45, 5.2, 17, 22]\n",
      "primer elemento:  27.0\n",
      "primer elemento:  45\n",
      "mi_lista2:  [12, 34, 56, 67, 87, 65, 45.0]\n",
      "mi_lista3:  [12, 34.0, 'gato', True, 34.56]\n",
      "suma de mi_lista2 y mi_lista3:  [12, 34, 56, 67, 87, 65, 45.0, 12, 34.0, 'gato', True, 34.56]\n",
      "mi_lista2 x 2:  [12, 34, 56, 67, 87, 65, 45.0, 12, 34, 56, 67, 87, 65, 45.0, 12, 34, 56, 67, 87, 65, 45.0]\n"
     ]
    },
    {
     "ename": "TypeError",
     "evalue": "can't multiply sequence by non-int of type 'list'",
     "output_type": "error",
     "traceback": [
      "\u001b[0;31m---------------------------------------------------------------------------\u001b[0m",
      "\u001b[0;31mTypeError\u001b[0m                                 Traceback (most recent call last)",
      "\u001b[0;32m<ipython-input-4-19a6ba2d9b63>\u001b[0m in \u001b[0;36m<cell line: 45>\u001b[0;34m()\u001b[0m\n\u001b[1;32m     43\u001b[0m \u001b[0;34m\u001b[0m\u001b[0m\n\u001b[1;32m     44\u001b[0m \u001b[0;31m#mini ejercicio: qué pasa si multiplico mi_lista por mi_lista2?\u001b[0m\u001b[0;34m\u001b[0m\u001b[0;34m\u001b[0m\u001b[0m\n\u001b[0;32m---> 45\u001b[0;31m \u001b[0mprod_listas\u001b[0m \u001b[0;34m=\u001b[0m \u001b[0mmi_lista\u001b[0m\u001b[0;34m*\u001b[0m\u001b[0mmi_lista2\u001b[0m\u001b[0;34m\u001b[0m\u001b[0;34m\u001b[0m\u001b[0m\n\u001b[0m\u001b[1;32m     46\u001b[0m \u001b[0;34m\u001b[0m\u001b[0m\n\u001b[1;32m     47\u001b[0m \u001b[0;31m# No se acepta el operador multiplicación * entre listas\u001b[0m\u001b[0;34m\u001b[0m\u001b[0;34m\u001b[0m\u001b[0m\n",
      "\u001b[0;31mTypeError\u001b[0m: can't multiply sequence by non-int of type 'list'"
     ]
    }
   ],
   "source": [
    "#listas\n",
    "#defino lista vacia:\n",
    "mi_lista=[]\n",
    "#print(mi_lista)\n",
    "\n",
    "#le agrego un elemento\n",
    "mi_lista.append(27.0)\n",
    "#print(mi_lista)\n",
    "\n",
    "#le agrego otro elemento\n",
    "mi_lista.append(12)\n",
    "#print(mi_lista)\n",
    "\n",
    "#le agrego varios elementos\n",
    "mi_lista.append(45)\n",
    "mi_lista.append(5.2)\n",
    "mi_lista.append(17)\n",
    "mi_lista.append(22)\n",
    "\n",
    "print(\"mi lista: \", mi_lista)\n",
    "\n",
    "#imprimo el primer elemento de la lista\n",
    "print(\"primer elemento: \", mi_lista[0])\n",
    "\n",
    "#mini ejercicio: imprima el tercer elemento:\n",
    "print(\"primer elemento: \", mi_lista[2])\n",
    "\n",
    "#otra forma de definir listas:\n",
    "mi_lista2=[12,34,56,67,87,65,45.0]\n",
    "print(\"mi_lista2: \", mi_lista2)\n",
    "\n",
    "#las listas pueden tener todo tipo de variables\n",
    "mi_lista3=[12, 34.0, \"gato\", True, 34.56]\n",
    "print(\"mi_lista3: \", mi_lista3)\n",
    "\n",
    "#mini ejercicio: qué pasa si sumo mi_lista2 con mi_lista3? imprima el resultado\n",
    "mi_suma=mi_lista2 + mi_lista3\n",
    "print(\"suma de mi_lista2 y mi_lista3: \", mi_suma)\n",
    "\n",
    "#mini ejercicio: qué pasa si multiplico mi_lista2 por 3\n",
    "prod_lista= mi_lista2*3\n",
    "print(\"mi_lista2 x 2: \", prod_lista)\n",
    "\n",
    "#mini ejercicio: qué pasa si multiplico mi_lista por mi_lista2?\n",
    "prod_listas = mi_lista*mi_lista2 #error\n",
    "\n",
    "# No se acepta el operador multiplicación * entre listas"
   ]
  },
  {
   "cell_type": "markdown",
   "metadata": {
    "id": "7uNtMkzCKwiY"
   },
   "source": [
    "OPERADORES ARITMÉTICOS BÁSICOS"
   ]
  },
  {
   "cell_type": "code",
   "execution_count": 1,
   "metadata": {
    "colab": {
     "base_uri": "https://localhost:8080/"
    },
    "id": "sybK7-0yIyDJ",
    "outputId": "5272cd5a-1c11-4d25-9100-07937acc5429"
   },
   "outputs": [
    {
     "name": "stdout",
     "output_type": "stream",
     "text": [
      "15.5\n",
      "9.5\n",
      "37.5\n",
      "4.166666666666667\n",
      "1953.125\n",
      "0.5\n",
      "\n",
      "1.0\n",
      "0.0\n"
     ]
    }
   ],
   "source": [
    "#operadores aritmeticos basicos\n",
    "a=12.5\n",
    "b=3\n",
    "c=15\n",
    "#suma\n",
    "suma=a+b\n",
    "#resta\n",
    "resta=a-b\n",
    "#producto\n",
    "a*b\n",
    "#division\n",
    "a/b\n",
    "#potencia\n",
    "a**b\n",
    "#modulo\n",
    "a%b\n",
    "\n",
    "#mini ejercicio: imprima los resultados de las operaciones anteriores\n",
    "print(a+b)\n",
    "print(a-b)\n",
    "print(a*b)\n",
    "print(a/b)\n",
    "print(a**b)\n",
    "print(a%b)\n",
    "print()\n",
    "\n",
    "# errores numéricos\n",
    "suma1=1+(1.5e56-1.5e56)\n",
    "suma2=(1+1.5e56)-1.5e56\n",
    "print(suma1)\n",
    "print(suma2)"
   ]
  },
  {
   "cell_type": "markdown",
   "metadata": {
    "id": "AyLJKcIri9l0"
   },
   "source": [
    "OPERADORES BÁSICOS DE COMPARACIÓN"
   ]
  },
  {
   "cell_type": "code",
   "execution_count": 7,
   "metadata": {
    "colab": {
     "base_uri": "https://localhost:8080/"
    },
    "id": "faCtntPnK1al",
    "outputId": "803c528c-92f2-42af-f777-6b8745bd6d11"
   },
   "outputs": [
    {
     "name": "stdout",
     "output_type": "stream",
     "text": [
      "False\n",
      "True\n",
      "True\n",
      "False\n",
      "True\n",
      "False\n"
     ]
    }
   ],
   "source": [
    "#operadores de comparacion basicos\n",
    "a=12.5\n",
    "b=3\n",
    "c=15\n",
    "#igual que\n",
    "a==b\n",
    "#diferente de\n",
    "a!=b\n",
    "#mayor que\n",
    "a>b\n",
    "#menor que\n",
    "a<b\n",
    "#mayor o igual\n",
    "a>=b\n",
    "#menor o igual\n",
    "a<=b\n",
    "\n",
    "#mini ejercicio: imprima el resultado de las comparaciones anteriores. qué tipo de variable es?\n",
    "print(a==b)\n",
    "print(a!=b)\n",
    "print(a>b)\n",
    "print(a<b)\n",
    "print(a>=b)\n",
    "print(a<=b)\n",
    "\n",
    "# Todas son variables tipo bool (True o False)\n",
    "\n",
    "#otros operadores de comparación: https://www.tutorialspoint.com/python/python_basic_operators.htm"
   ]
  },
  {
   "cell_type": "markdown",
   "metadata": {
    "id": "J4jl9fVRkiMx"
   },
   "source": [
    "CICLOS FOR"
   ]
  },
  {
   "cell_type": "code",
   "execution_count": 2,
   "metadata": {
    "colab": {
     "base_uri": "https://localhost:8080/"
    },
    "id": "BvqLSNKOklNc",
    "outputId": "ce5c3aa6-0252-4614-fea0-c182b6e401eb"
   },
   "outputs": [
    {
     "name": "stdout",
     "output_type": "stream",
     "text": [
      "i:  0\n",
      "i:  1\n",
      "i:  2\n",
      "i:  3\n",
      "i:  4\n",
      "i:  5\n",
      "i:  6\n",
      "i:  7\n",
      "i:  8\n",
      "i:  9\n",
      "\n",
      "i:  -10\n",
      "i:  -8\n",
      "i:  -6\n",
      "i:  -4\n",
      "i:  -2\n",
      "i:  0\n",
      "i:  2\n",
      "i:  4\n",
      "i:  6\n",
      "i:  8\n",
      "i:  10\n",
      "\n",
      "elemento:  2\n",
      "elemento:  3\n",
      "elemento:  4\n",
      "elemento:  5\n",
      "elemento:  6.0\n",
      "elemento:  gato\n"
     ]
    }
   ],
   "source": [
    "#ciclos con la función range\n",
    "for i in range(10):\n",
    "  print(\"i: \", i)\n",
    "\n",
    "#mini ejercicio: mire la documentación de range (por ejemplo acá: https://www.w3schools.com/python/ref_func_range.asp)\n",
    "# y haga que i vaya de -10 a 10 en pasos de 2.\n",
    "print()\n",
    "for i in range(-10,11,2):\n",
    "  print(\"i: \", i)\n",
    "print()\n",
    "\n",
    "\n",
    "#ciclos recorriendo listas o arreglos\n",
    "\n",
    "lista4=[2,3,4,5,6.0,\"gato\"]\n",
    "for elemento in lista4:\n",
    "  print(\"elemento: \", elemento)\n",
    "\n"
   ]
  },
  {
   "cell_type": "markdown",
   "metadata": {
    "id": "cjtquhiSmVPG"
   },
   "source": [
    "NOTA IMPORTANTE!!! LA INDENTACIÓN SE UTILIZA PARA INDICAR QUÉ INSTRUCCIONES ESTÁN DENTRO DEL CICLO (O DENTRO DEL CONDICIONAL, O DENTRO DE LA FUNCION)...\n"
   ]
  },
  {
   "cell_type": "code",
   "execution_count": 3,
   "metadata": {
    "colab": {
     "base_uri": "https://localhost:8080/"
    },
    "id": "IhZo-NqkmiP7",
    "outputId": "3a0834dc-2238-4fcd-9b0c-cb796e156337"
   },
   "outputs": [
    {
     "name": "stdout",
     "output_type": "stream",
     "text": [
      "j:  0\n",
      "j+2:  2\n",
      "j:  1\n",
      "j+2:  3\n",
      "j:  2\n",
      "j+2:  4\n",
      "k:  0\n",
      "k:  1\n",
      "k:  2\n",
      "k+2:  4\n"
     ]
    }
   ],
   "source": [
    "# mini ejercicio: preube los dos ciclos que están a continuación. Cuál es la diferencia?\n",
    "for j in range(3):\n",
    "  print(\"j: \", j)\n",
    "  print(\"j+2: \", j+2) #nota: cuidado con el copy paste!!!!\n",
    "\n",
    "for k in range(3):\n",
    "  print(\"k: \", k)\n",
    "print(\"k+2: \", k+2)\n",
    "\n",
    "# El comando \"print(\"k+2: \", k+2)\" no se encuentra indentado dentro del ciclo de k, por lo que solo se correrá una vez cuando se cierre el ciclo de k, con k=2."
   ]
  },
  {
   "cell_type": "markdown",
   "metadata": {
    "id": "c658PPBEjjC1"
   },
   "source": [
    "ARREGLOS DE NUMPY"
   ]
  },
  {
   "cell_type": "code",
   "execution_count": 4,
   "metadata": {
    "colab": {
     "base_uri": "https://localhost:8080/"
    },
    "id": "hLFyyMipjCTv",
    "outputId": "3aca5dac-fb6b-4edd-8d66-37299851471d"
   },
   "outputs": [
    {
     "name": "stdout",
     "output_type": "stream",
     "text": [
      "[0. 0. 0. 0. 0. 0. 0. 0. 0. 0.]\n",
      "[ -8.  -1.   0.   1.   8.  27.  64. 125. 216. 343.]\n",
      "[ -24.   -3.    0.    3.   24.   81.  192.  375.  648. 1029.]\n"
     ]
    }
   ],
   "source": [
    "\n",
    "#numpy arrays\n",
    "\n",
    "#import la librería de numpy para poder usar arreglos\n",
    "import numpy as np\n",
    "\n",
    "#genero un arreglo de ceros de 10 elementos:\n",
    "arreglo=np.zeros(10)\n",
    "print(arreglo)\n",
    "\n",
    "#remplazo los ceros del arreglo por otro valor usando un ciclo (ver la celda de más adelante)\n",
    "for i in range(10):\n",
    "\tarreglo[i]=(i-2)**3\n",
    "print(arreglo)\n",
    "\n",
    "\n",
    "#mini ejercicio: multiplique el arreglo por 3 e imprima el resultado. Qué diferencia hay con las listas?\n",
    "print(arreglo*3)\n",
    "\n",
    "# El operador * entre un número real y un arreglo, multiplica cada elemento del arreglo por el número.\n",
    "# El operador * entre un entero n y una lista, extiende la lista n veces repitiendo los elementos."
   ]
  },
  {
   "cell_type": "markdown",
   "metadata": {
    "id": "EnyWAtI_r3-L"
   },
   "source": [
    "SLICING DE ARREGLOS DE NUMPY"
   ]
  },
  {
   "cell_type": "code",
   "execution_count": 5,
   "metadata": {
    "colab": {
     "base_uri": "https://localhost:8080/"
    },
    "id": "ViEY8SI2r70D",
    "outputId": "46aa2287-5942-4af3-cb4e-851b96fb5e47"
   },
   "outputs": [
    {
     "name": "stdout",
     "output_type": "stream",
     "text": [
      "todo [ -8.  -1.   0.   1.   8.  27.  64. 125. 216. 343.]\n",
      "[1:3] [-1.  0.]\n",
      "[:3] [-8. -1.  0.]\n",
      "[3:] [  1.   8.  27.  64. 125. 216. 343.]\n",
      "[-3:] [125. 216. 343.]\n",
      "[3:-3] [ 1.  8. 27. 64.]\n",
      "[3:-3: 2] [ 1. 27.]\n"
     ]
    }
   ],
   "source": [
    "print(\"todo\", arreglo)\n",
    "print(\"[1:3]\", arreglo[1:3])\n",
    "print(\"[:3]\", arreglo[:3])\n",
    "print(\"[3:]\", arreglo[3:])\n",
    "print(\"[-3:]\", arreglo[-3:])\n",
    "print(\"[3:-3]\", arreglo[3: -3])\n",
    "print(\"[3:-3: 2]\", arreglo[3: -3: 2])"
   ]
  },
  {
   "cell_type": "markdown",
   "metadata": {
    "id": "g5NvjoTwnzam"
   },
   "source": [
    "CONDICIONALES"
   ]
  },
  {
   "cell_type": "code",
   "execution_count": 6,
   "metadata": {
    "colab": {
     "base_uri": "https://localhost:8080/"
    },
    "id": "lyy0hW69j_T-",
    "outputId": "66ac6d51-c8e1-4437-9164-30a6b1cac2bf"
   },
   "outputs": [
    {
     "name": "stdout",
     "output_type": "stream",
     "text": [
      "25\n",
      "17\n",
      "13\n",
      "verdadero\n",
      "falso\n"
     ]
    }
   ],
   "source": [
    "var1=17\n",
    "var2=25\n",
    "var3=13\n",
    "lista_var=[12, 45, 17, 13]\n",
    "\n",
    "#if else\n",
    "if(var1>=var2):\n",
    "\tprint(var1)\n",
    "else:\n",
    "\tprint(var2)\n",
    "\n",
    "#if elif else\n",
    "if(var1>=var3):\n",
    "\tprint(var1)\n",
    "elif(var2>=var3):\n",
    "\tprint(var2)\n",
    "else:\n",
    "\tprint(var3)\n",
    "\n",
    "\n",
    "# or y and\n",
    "\n",
    "if(var1>var3 and var2>var3):\n",
    "\tprint(var3)\n",
    "\n",
    "if(var1<var3 or var2<var3):\n",
    "\tprint(var3)\n",
    "\n",
    "\n",
    "# in y not\n",
    "if(var1 in lista_var):\n",
    "\tprint(\"verdadero\")\n",
    "\n",
    "\n",
    "if(var2 not in lista_var):\n",
    "\tprint(\"falso\")\n"
   ]
  },
  {
   "cell_type": "markdown",
   "metadata": {
    "id": "tHWwqHSNob6i"
   },
   "source": [
    "WHILE"
   ]
  },
  {
   "cell_type": "code",
   "execution_count": 7,
   "metadata": {
    "colab": {
     "base_uri": "https://localhost:8080/"
    },
    "id": "foUBkM3golWx",
    "outputId": "eabd44f6-675d-4ddc-a16b-62303f850038"
   },
   "outputs": [
    {
     "name": "stdout",
     "output_type": "stream",
     "text": [
      "10\n",
      "25\n",
      "40\n",
      "55\n",
      "70\n",
      "85\n",
      "100\n",
      "115\n"
     ]
    }
   ],
   "source": [
    "#while\n",
    "\n",
    "j=10\n",
    "\n",
    "while(j<120):\n",
    "\tprint(j)\n",
    "\t#ojo:\n",
    "\tj+=15"
   ]
  },
  {
   "cell_type": "markdown",
   "metadata": {
    "id": "Yv_3W0Wpota0"
   },
   "source": [
    "FUNCIONES"
   ]
  },
  {
   "cell_type": "code",
   "execution_count": 9,
   "metadata": {
    "colab": {
     "base_uri": "https://localhost:8080/",
     "height": 293
    },
    "id": "QNIzW2N-ovU9",
    "outputId": "7548b41e-8f38-4929-9e95-1705e73984e1"
   },
   "outputs": [
    {
     "name": "stdout",
     "output_type": "stream",
     "text": [
      "parametro1=  3\n",
      "resultado 16\n"
     ]
    },
    {
     "ename": "NameError",
     "evalue": "name 'parametro2' is not defined",
     "output_type": "error",
     "traceback": [
      "\u001b[1;31m---------------------------------------------------------------------------\u001b[0m",
      "\u001b[1;31mNameError\u001b[0m                                 Traceback (most recent call last)",
      "\u001b[1;32m~\\AppData\\Local\\Temp\\ipykernel_1700\\3252842348.py\u001b[0m in \u001b[0;36m<module>\u001b[1;34m\u001b[0m\n\u001b[0;32m     11\u001b[0m \u001b[1;33m\u001b[0m\u001b[0m\n\u001b[0;32m     12\u001b[0m \u001b[1;31m#mini ejercicio: prueben qué pasa si quieren imprimir la variable parametro2 por fuera de la función\u001b[0m\u001b[1;33m\u001b[0m\u001b[1;33m\u001b[0m\u001b[0m\n\u001b[1;32m---> 13\u001b[1;33m \u001b[0mprint\u001b[0m\u001b[1;33m(\u001b[0m\u001b[0mparametro2\u001b[0m\u001b[1;33m)\u001b[0m \u001b[1;31m#error\u001b[0m\u001b[1;33m\u001b[0m\u001b[1;33m\u001b[0m\u001b[0m\n\u001b[0m\u001b[0;32m     14\u001b[0m \u001b[1;33m\u001b[0m\u001b[0m\n\u001b[0;32m     15\u001b[0m \u001b[1;31m# Produce error porque no se ha definido la variable parametro2 por fuera de la función, solo aparece como el nombre de la segunda entrada de mi_funcion.\u001b[0m\u001b[1;33m\u001b[0m\u001b[1;33m\u001b[0m\u001b[0m\n",
      "\u001b[1;31mNameError\u001b[0m: name 'parametro2' is not defined"
     ]
    }
   ],
   "source": [
    "#defino una función que llamo mi_funcion. Uso la indentación para indicar qué está dentro de mi función\n",
    "def mi_funcion(parametro1, parametro2):\n",
    "  #la función imprime el parametro1\n",
    "\tprint(\"parametro1= \", parametro1)\n",
    "  #la función retorna el parametro2\n",
    "\treturn parametro2**2\n",
    "\n",
    "#llamo mi mi funcion con los valores 3 y 4 y almaceno lo que retorna mi_funcion en la variable resultado\n",
    "resultado=mi_funcion(3,4)\n",
    "print(\"resultado\", resultado)\n",
    "\n",
    "#mini ejercicio: prueben qué pasa si quieren imprimir la variable parametro2 por fuera de la función\n",
    "print(parametro2) #error\n",
    "\n",
    "# Produce error porque no se ha definido la variable parametro2 por fuera de la función, solo aparece como el nombre de la segunda entrada de mi_funcion."
   ]
  },
  {
   "cell_type": "markdown",
   "metadata": {
    "id": "9MBvGG6GuMMO"
   },
   "source": [
    "++++++++++++++++++++++++++++++++++++++++++ EJERCICIOS\n",
    " ++++++++++++++++++++++++++++++++++++++++++"
   ]
  },
  {
   "cell_type": "markdown",
   "metadata": {
    "id": "1jkBGl2buuan"
   },
   "source": [
    "EJERCICIO 1:"
   ]
  },
  {
   "cell_type": "code",
   "execution_count": 12,
   "metadata": {
    "colab": {
     "base_uri": "https://localhost:8080/"
    },
    "id": "WQxklqyOpaSK",
    "outputId": "8b19b584-fe42-4c8c-d85e-1314fd55d03c"
   },
   "outputs": [
    {
     "name": "stdout",
     "output_type": "stream",
     "text": [
      "Ejercicio 1\n",
      "La primera tiene un valor de 4 y la segunda variable tiene un valor de 6.2\n",
      "\n",
      "El resultado es 1.55\n",
      "[101, 26, 'rio', 'gato', 17, 45, 28]\n",
      "\n",
      "101\n",
      "26\n",
      "rio\n",
      "gato\n",
      "17\n",
      "45\n",
      "28\n",
      "257\n",
      "285\n",
      "583\n",
      "\n",
      "gato\n",
      "\n",
      "La longitud de la lista es 10\n"
     ]
    }
   ],
   "source": [
    "#ejercicio 1\n",
    "\n",
    "print(\"Ejercicio 1\")\n",
    "\n",
    "#a) Inicializar dos variables globales (con valores escogidos por ustedes), una entera y otra flotante.\\\\\n",
    "\n",
    "\n",
    "#b) Imprimir los valores de las variables en un mensaje: #\n",
    "#\"La primera tiene un valor de XX y la segunda variable tiene un valor de YY\"\n",
    "x = 4\n",
    "y = 6.2\n",
    "\n",
    "print(f\"La primera tiene un valor de {x} y la segunda variable tiene un valor de {y}\")\n",
    "print()\n",
    "\n",
    "#c) Calcular el valor de la segunda variable dividida por la primera e imprimir : \"El resultado es ZZ\"\n",
    "z = y/x\n",
    "print(f\"El resultado es {z}\")\n",
    "\n",
    "#d) Crear una lista con los elementos: 101, 26, rio, gato, 17, 45 y 28 e imprimirla.\n",
    "L = [101,26,\"rio\",\"gato\",17,45,28]\n",
    "print(L)\n",
    "print()\n",
    "\n",
    "#e) Agregarle a esa lista los elementos: 257, 285, 583\n",
    "L = L+[257,285,583]\n",
    "\n",
    "#f) Hacer un ciclo para recorrer dicha lista e imprimir sus elementos.\n",
    "for i in L:\n",
    "  print(i)\n",
    "print()\n",
    "\n",
    "#g) imprimir el cuarto elemento de la lista.\n",
    "print(L[3])\n",
    "print()\n",
    "\n",
    "#h) Calcular la longitud de la lista e imprimir: \"la longitud de la lista es XX\" puede usar le función len()\n",
    "l = len(L)\n",
    "print(f\"La longitud de la lista es {l}\")\n"
   ]
  },
  {
   "cell_type": "markdown",
   "metadata": {
    "id": "bu0z0nRLu64_"
   },
   "source": [
    "EJERCICIO 2:"
   ]
  },
  {
   "cell_type": "code",
   "execution_count": 16,
   "metadata": {
    "colab": {
     "base_uri": "https://localhost:8080/"
    },
    "id": "KWQfl16quw8o",
    "outputId": "b857b4ee-e5af-43c4-91fd-269b53fb7a58"
   },
   "outputs": [
    {
     "name": "stdout",
     "output_type": "stream",
     "text": [
      "Ejercicio 2\n",
      "arreglo x:  [ 91 261 225 145 657 383 332  26 783 506 626 683 651  32 472 891 435 323\n",
      " 788 462 128 599 719  43 334 134 526 316 395 773 153  25 439 854 730 758\n",
      " 335 847 316 381 419  50 203   6 324  89 276 540 164 149 709 175 640  53\n",
      "  57 462 403 189 787 289 476 804 188  83 791 826 643 568 181 397 476 169\n",
      " 695 559 211 485 773 264 668 617 325 240 530 345 629 656 191 686 693 565\n",
      " 470 783 325 856 498 754 659 277   6 395]\n",
      "\n",
      "91\n",
      "261\n",
      "225\n",
      "145\n",
      "657\n",
      "383\n"
     ]
    }
   ],
   "source": [
    "#ejercicio 2\n",
    "print(\"Ejercicio 2\")\n",
    "\n",
    "# Complete el siguiente código para que:\n",
    "# recorra el arreglo `x`\n",
    "# imprima los números impares\n",
    "# y pare de imprimir al encontrar un número mayor a 700\n",
    "\n",
    "import numpy as np\n",
    "\n",
    "#genero un arreglo de número aleatorios:\n",
    "x=np.int_(np.random.random(100)*900)\n",
    "print(\"arreglo x: \", x)\n",
    "print()\n",
    "for i in x:\n",
    "  if i>700:\n",
    "    break\n",
    "  if i%2!=0:\n",
    "    print(i)\n",
    "\n",
    "\n"
   ]
  },
  {
   "cell_type": "markdown",
   "metadata": {
    "id": "jWFl8rsZvKOT"
   },
   "source": [
    "EJERCICIO 3:"
   ]
  },
  {
   "cell_type": "code",
   "execution_count": 14,
   "metadata": {
    "colab": {
     "base_uri": "https://localhost:8080/"
    },
    "id": "GRWQWWDqvEf5",
    "outputId": "b4a0a855-1709-497b-f5c4-83a70b0d82bf"
   },
   "outputs": [
    {
     "name": "stdout",
     "output_type": "stream",
     "text": [
      "ejercicio 3\n"
     ]
    }
   ],
   "source": [
    "#ejercicio 3\n",
    "print(\"Ejercicio 3\")\n",
    "\n",
    "#Haga una función llamada multiplicación\n",
    "#que reciba como argumentos dos variables a y b y retorne a*b.\n",
    "#Imprima lo que retorna la función para a=10 y b=18\n",
    "def multiplicacion(a,b):\n",
    "  return a*b\n"
   ]
  },
  {
   "cell_type": "markdown",
   "metadata": {
    "id": "Lyvoe9jfv08k"
   },
   "source": [
    "EJERCICIO 4"
   ]
  },
  {
   "cell_type": "code",
   "execution_count": 37,
   "metadata": {
    "colab": {
     "base_uri": "https://localhost:8080/"
    },
    "id": "sOk7d-7evMIw",
    "outputId": "8e485e60-4ed1-4fa7-9d1d-68c389313dfe"
   },
   "outputs": [
    {
     "name": "stdout",
     "output_type": "stream",
     "text": [
      "ejercicio 4\n",
      "Mínimo: 3\n",
      "Mínimo: 3\n"
     ]
    }
   ],
   "source": [
    "#ejercicio 4\n",
    "print(\"Ejercicio 4\")\n",
    "# Complete el siguiente código para que:\n",
    "# recorra la lista x del ejercicio 2 y encuentre el mínimo de los elementos de la lista.\n",
    "#Compare su resultado con el obtenido por np.min e imprima un mensajito con ambos valores.\n",
    "a = x[0]\n",
    "for i in x:\n",
    "  if i<a:\n",
    "    a=i\n",
    "\n",
    "print(\"Mínimo:\",a)\n",
    "print(\"Mínimo:\",np.min(x))\n"
   ]
  },
  {
   "cell_type": "markdown",
   "metadata": {
    "id": "mHpcqMRNv7jv"
   },
   "source": [
    "EJERCICIO 5"
   ]
  },
  {
   "cell_type": "code",
   "execution_count": 17,
   "metadata": {
    "colab": {
     "base_uri": "https://localhost:8080/"
    },
    "id": "OBP4y_u1v6kz",
    "outputId": "2bb60ff5-43af-4ace-f516-c2830980d8f0"
   },
   "outputs": [
    {
     "name": "stdout",
     "output_type": "stream",
     "text": [
      "ejercicio 5\n",
      "arreglo x:  [318  68 447 708 616 828 833 315 392 665 540  20 729 528 896  48 193 795\n",
      " 816 295 679 524 779 178 642 863 231 206 586 360 366 248 185  28 671 133\n",
      " 691   5  71  70 425 713 292 151 422 467 511 542 489 522 649 739 522 713\n",
      " 856 856 814 535 199 359 106 728 795 490  49 603 784 695 285 718 593 407\n",
      " 777 757  89 891 752 188 750 363 464  61  31 700 557 816 739 818 150 753\n",
      "   1 297 834 168 763 524  93 600 114 147]\n",
      "\n",
      "[ 319  365 1281  876 1379 1352  926  915  506  812]\n"
     ]
    }
   ],
   "source": [
    "#ejercicio 5\n",
    "print(\"Ejercicio 5\")\n",
    "#  sin usar ciclos, sume los 10 primeros elementos del arreglo x a los 10 últimos elementos del arreglo x. Imprima el arreglo resultante.\n",
    "import numpy as np\n",
    "\n",
    "#genero un arreglo de número aleatorios:\n",
    "x=np.int_(np.random.random(100)*900)\n",
    "print(\"arreglo x: \", x)\n",
    "print()\n",
    "suma = x[:10] + x[-10:]\n",
    "print(suma)"
   ]
  }
 ],
 "metadata": {
  "colab": {
   "provenance": []
  },
  "kernelspec": {
   "display_name": "Python 3 (ipykernel)",
   "language": "python",
   "name": "python3"
  },
  "language_info": {
   "codemirror_mode": {
    "name": "ipython",
    "version": 3
   },
   "file_extension": ".py",
   "mimetype": "text/x-python",
   "name": "python",
   "nbconvert_exporter": "python",
   "pygments_lexer": "ipython3",
   "version": "3.9.13"
  }
 },
 "nbformat": 4,
 "nbformat_minor": 4
}
